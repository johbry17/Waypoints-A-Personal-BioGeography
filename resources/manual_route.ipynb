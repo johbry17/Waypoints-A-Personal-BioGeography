{
 "cells": [
  {
   "cell_type": "code",
   "execution_count": null,
   "metadata": {},
   "outputs": [],
   "source": [
    "# import dependencies\n",
    "import json\n",
    "import openrouteservice\n",
    "import os\n",
    "from oauth2client.service_account import ServiceAccountCredentials\n",
    "import gspread\n"
   ]
  },
  {
   "cell_type": "code",
   "execution_count": null,
   "metadata": {},
   "outputs": [],
   "source": [
    "# manually set lat/lng here\n",
    "locations = {\n",
    "\n",
    "}"
   ]
  },
  {
   "cell_type": "code",
   "execution_count": null,
   "metadata": {},
   "outputs": [],
   "source": [
    "# authenticate and connect to google sheets\n",
    "scope = [\n",
    "    \"https://spreadsheets.google.com/feeds\",\n",
    "    \"https://www.googleapis.com/auth/drive\",\n",
    "]\n",
    "creds = ServiceAccountCredentials.from_json_keyfile_name(\"api_keys.json\", scope)\n",
    "client = gspread.authorize(creds)\n",
    "spreadsheet = client.open_by_key(\"12L4EkdRqaQ_e42fGHWaTmgCeqQrNgjTfoeAEc5AB6tw\")"
   ]
  },
  {
   "cell_type": "code",
   "execution_count": null,
   "metadata": {},
   "outputs": [],
   "source": [
    "# load route data\n",
    "route_sheet = spreadsheet.worksheet(\"Routes\")\n",
    "route_data = pd.DataFrame(route_sheet.get_all_records())"
   ]
  },
  {
   "cell_type": "code",
   "execution_count": 13,
   "metadata": {},
   "outputs": [],
   "source": [
    "# connect to OpenRouteService API for automobile routes\n",
    "with open(\"api_keys.json\") as f:\n",
    "    api_keys = json.load(f)\n",
    "ors_client = openrouteservice.Client(key=api_keys[\"openrouteservice\"])"
   ]
  },
  {
   "cell_type": "code",
   "execution_count": 14,
   "metadata": {},
   "outputs": [],
   "source": [
    "# function to return a geojson route between two coordinates \n",
    "def fetch_route(start_coords, end_coords, transport_mode=\"driving-car\"):\n",
    "    try:\n",
    "        # Fetch the route from OpenRouteService\n",
    "        route = ors_client.directions(\n",
    "            coordinates=[start_coords, end_coords],\n",
    "            profile=transport_mode,\n",
    "            format=\"geojson\"\n",
    "        )\n",
    "        return route\n",
    "    except openrouteservice.exceptions.ApiError as e:\n",
    "        print(f\"Failed to fetch route: {e}\")\n",
    "        return None\n",
    "    \n",
    "# function to save the route to a geojson file\n",
    "def save_route_as_geojson(route, start_location, end_location):\n",
    "    filename = f\"{start_location.replace(' ', '_')}_to_{end_location.replace(' ', '_')}.geojson\"\n",
    "    filepath = os.path.join(\"../docs/resources/geojson\", filename)\n",
    "    with open(filepath, \"w\") as f:\n",
    "        json.dump(route, f, indent=4)\n",
    "    print(f\"Route saved to {filepath}\")"
   ]
  },
  {
   "cell_type": "code",
   "execution_count": null,
   "metadata": {},
   "outputs": [
    {
     "name": "stdout",
     "output_type": "stream",
     "text": [
      "Failed to fetch route: 404 ({'error': {'code': 2010, 'message': 'Could not find routable point within a radius of 350.0 meters of specified coordinate 0: -19.1817000 15.9177000.; Could not find routable point within a radius of 350.0 meters of specified coordinate 1: -22.5609000 17.0658000.'}, 'info': {'engine': {'build_date': '2025-03-14T11:07:03Z', 'graph_version': '1', 'version': '9.1.1'}, 'timestamp': 1743837194919}})\n"
     ]
    }
   ],
   "source": []
  }
 ],
 "metadata": {
  "kernelspec": {
   "display_name": "dev",
   "language": "python",
   "name": "python3"
  },
  "language_info": {
   "codemirror_mode": {
    "name": "ipython",
    "version": 3
   },
   "file_extension": ".py",
   "mimetype": "text/x-python",
   "name": "python",
   "nbconvert_exporter": "python",
   "pygments_lexer": "ipython3",
   "version": "3.10.13"
  }
 },
 "nbformat": 4,
 "nbformat_minor": 2
}
