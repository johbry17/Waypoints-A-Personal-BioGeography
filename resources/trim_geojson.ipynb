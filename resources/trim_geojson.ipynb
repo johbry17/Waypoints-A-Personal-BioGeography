{
 "cells": [
  {
   "cell_type": "code",
   "execution_count": null,
   "id": "fb23ba79",
   "metadata": {},
   "outputs": [],
   "source": [
    "import geojson\n",
    "from geopy.distance import geodesic"
   ]
  },
  {
   "cell_type": "markdown",
   "id": "78b8beab",
   "metadata": {},
   "source": [
    "### This file cuts a GeoJSON at the closest point to a chosen lat/lng and discards the remainder, REPLACING the original file\n",
    "\n",
    "### Use with caution"
   ]
  },
  {
   "cell_type": "code",
   "execution_count": null,
   "id": "31a91612",
   "metadata": {},
   "outputs": [],
   "source": [
    "# Define these CAREFULLY!! - It will REPLACE the original file\n",
    "\n",
    "################################\n",
    "# path to geojson\n",
    "# file_path = '../docs/resources/geojson/boat_pacuare.geojson'\n",
    "\n",
    "# set coordinates to cut the trail / road / track\n",
    "# Note: (latitude, longitude)\n",
    "# endpoint = (10.098051, -83.483936)\n",
    "#################################"
   ]
  },
  {
   "cell_type": "code",
   "execution_count": null,
   "id": "261b1ce7",
   "metadata": {},
   "outputs": [],
   "source": [
    "# functions for cutting a hiking trail / road / train track\n",
    "\n",
    "# find the closest point to the endpoint on the trail / road / track\n",
    "def find_closest_point(feature, endpoint):\n",
    "    closest_point = None\n",
    "    min_distance = float(\"inf\")\n",
    "    for coord in feature[\"geometry\"][\"coordinates\"]:\n",
    "        # convert to (latitude, longitude) for geodesic calculation\n",
    "        coord_latlon = (coord[1], coord[0])\n",
    "        distance = geodesic(coord_latlon, endpoint).meters\n",
    "        if distance < min_distance:\n",
    "            min_distance = distance\n",
    "            closest_point = coord\n",
    "    return closest_point\n",
    "\n",
    "# filter the trail up to the closest point\n",
    "def filter_trail(feature, closest_point):\n",
    "    filtered_coords = []\n",
    "    for coord in feature[\"geometry\"][\"coordinates\"]:\n",
    "        filtered_coords.append(coord)\n",
    "        if coord == closest_point:  # stop at the closest point\n",
    "            break\n",
    "    return filtered_coords"
   ]
  },
  {
   "cell_type": "code",
   "execution_count": null,
   "id": "b7229cc8",
   "metadata": {},
   "outputs": [
    {
     "name": "stdout",
     "output_type": "stream",
     "text": [
      "Filtered GeoJSON saved!\n"
     ]
    }
   ],
   "source": [
    "# loads, processes, and saves the geojson file\n",
    "\n",
    "# load geojson\n",
    "with open(file_path, \"r\") as file:\n",
    "    data = geojson.load(file)\n",
    "\n",
    "# process geojson\n",
    "filtered_features = []\n",
    "for feature in data[\"features\"]:\n",
    "    if feature[\"geometry\"][\"type\"] == \"LineString\":\n",
    "        # find the closest point to the endpoint\n",
    "        closest_point = find_closest_point(feature, endpoint)\n",
    "        if closest_point:\n",
    "            # filter to the closest point\n",
    "            filtered_coords = filter_trail(feature, closest_point)\n",
    "            if filtered_coords:\n",
    "                # create new feature with the filtered geometry\n",
    "                new_feature = geojson.Feature(\n",
    "                    geometry=geojson.LineString(filtered_coords),\n",
    "                    properties=feature[\"properties\"],\n",
    "                )\n",
    "                filtered_features.append(new_feature)\n",
    "\n",
    "# save\n",
    "filtered_geojson = geojson.FeatureCollection(filtered_features)\n",
    "with open(file_path, \"w\") as file:\n",
    "    geojson.dump(filtered_geojson, file, indent=2)\n",
    "\n",
    "print(\"Filtered GeoJSON saved!\")"
   ]
  }
 ],
 "metadata": {
  "kernelspec": {
   "display_name": "dev",
   "language": "python",
   "name": "python3"
  },
  "language_info": {
   "codemirror_mode": {
    "name": "ipython",
    "version": 3
   },
   "file_extension": ".py",
   "mimetype": "text/x-python",
   "name": "python",
   "nbconvert_exporter": "python",
   "pygments_lexer": "ipython3",
   "version": "3.10.13"
  }
 },
 "nbformat": 4,
 "nbformat_minor": 5
}
