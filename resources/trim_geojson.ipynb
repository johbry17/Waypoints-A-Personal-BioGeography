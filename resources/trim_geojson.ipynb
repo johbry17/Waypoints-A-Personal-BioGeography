{
 "cells": [
  {
   "cell_type": "code",
   "execution_count": 19,
   "id": "1d8fdd83",
   "metadata": {},
   "outputs": [],
   "source": [
    "# import dependencies\n",
    "import geojson"
   ]
  },
  {
   "cell_type": "code",
   "execution_count": 20,
   "id": "00906fa5",
   "metadata": {},
   "outputs": [],
   "source": [
    "# path to geojson file\n",
    "file_path = '../docs/resources/geojson/hike_kalalau.geojson'\n",
    "\n",
    "# define the coordinates to cut the trail / road / track\n",
    "# in the format (longitude, latitude)\n",
    "endpoint = (-159.597593, 22.208304)"
   ]
  },
  {
   "cell_type": "code",
   "execution_count": 21,
   "id": "8d4c54ad",
   "metadata": {},
   "outputs": [],
   "source": [
    "# handle floating point imprecision\n",
    "def coordinates_match(coord1, coord2, tolerance=1e-4):\n",
    "    return abs(coord1[0] - coord2[0]) <= tolerance and abs(coord1[1] - coord2[1]) <= tolerance\n",
    "\n",
    "\n",
    "# function to filter the trail up to the endpoint\n",
    "def filter_trail(feature, endpoint):\n",
    "    filtered_coords = []\n",
    "    for coord in feature[\"geometry\"][\"coordinates\"]:\n",
    "        filtered_coords.append(coord)\n",
    "        if coordinates_match(coord, endpoint):  # stop at endpoint\n",
    "            break\n",
    "    return filtered_coords"
   ]
  },
  {
   "cell_type": "code",
   "execution_count": 22,
   "id": "9ad9b35d",
   "metadata": {},
   "outputs": [],
   "source": [
    "# load GeoJSON\n",
    "with open(file_path, \"r\") as file:\n",
    "    data = geojson.load(file)"
   ]
  },
  {
   "cell_type": "code",
   "execution_count": 23,
   "id": "00ab4718",
   "metadata": {},
   "outputs": [],
   "source": [
    "# process the GeoJSON\n",
    "filtered_features = []\n",
    "for feature in data[\"features\"]:\n",
    "    if feature[\"geometry\"][\"type\"] == \"LineString\":\n",
    "        filtered_coords = filter_trail(feature, endpoint)\n",
    "        if filtered_coords:\n",
    "            # create new feature with the filtered geometry\n",
    "            new_feature = geojson.Feature(\n",
    "                geometry=geojson.LineString(filtered_coords),\n",
    "                properties=feature[\"properties\"],\n",
    "            )\n",
    "            filtered_features.append(new_feature)"
   ]
  },
  {
   "cell_type": "code",
   "execution_count": 24,
   "id": "ffe8eac0",
   "metadata": {},
   "outputs": [
    {
     "name": "stdout",
     "output_type": "stream",
     "text": [
      "Filtered GeoJSON saved!\n"
     ]
    }
   ],
   "source": [
    "# save\n",
    "filtered_geojson = geojson.FeatureCollection(filtered_features)\n",
    "with open(file_path, \"w\") as file:\n",
    "    geojson.dump(filtered_geojson, file, indent=2)\n",
    "\n",
    "print(\"Filtered GeoJSON saved!\")"
   ]
  },
  {
   "cell_type": "code",
   "execution_count": null,
   "id": "b7229cc8",
   "metadata": {},
   "outputs": [],
   "source": []
  }
 ],
 "metadata": {
  "kernelspec": {
   "display_name": "dev",
   "language": "python",
   "name": "python3"
  },
  "language_info": {
   "codemirror_mode": {
    "name": "ipython",
    "version": 3
   },
   "file_extension": ".py",
   "mimetype": "text/x-python",
   "name": "python",
   "nbconvert_exporter": "python",
   "pygments_lexer": "ipython3",
   "version": "3.10.13"
  }
 },
 "nbformat": 4,
 "nbformat_minor": 5
}
