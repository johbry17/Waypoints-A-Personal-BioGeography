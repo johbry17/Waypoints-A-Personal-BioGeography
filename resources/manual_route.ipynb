{
 "cells": [
  {
   "cell_type": "code",
   "execution_count": null,
   "metadata": {},
   "outputs": [],
   "source": [
    "# import dependencies\n",
    "import json\n",
    "import openrouteservice\n",
    "import os\n",
    "from oauth2client.service_account import ServiceAccountCredentials\n",
    "import gspread\n"
   ]
  },
  {
   "cell_type": "code",
   "execution_count": null,
   "metadata": {},
   "outputs": [],
   "source": [
    "# manually set lat/lng here\n",
    "locations = {\n",
    "    \"location1\": (37.7749, -122.4194),  # San Francisco\n",
    "    \"location2\": (34.0522, -118.2437),  # Los Angeles\n",
    "    \"location3\": (40.7128, -74.0060),   # New York City\n",
    "    \"location4\": (41.8781, -87.6298),   # Chicago\n",
    "}"
   ]
  },
  {
   "cell_type": "code",
   "execution_count": null,
   "metadata": {},
   "outputs": [],
   "source": []
  },
  {
   "cell_type": "code",
   "execution_count": null,
   "metadata": {},
   "outputs": [],
   "source": [
    "# authenticate and connect to google sheets\n",
    "scope = [\n",
    "    \"https://spreadsheets.google.com/feeds\",\n",
    "    \"https://www.googleapis.com/auth/drive\",\n",
    "]\n",
    "creds = ServiceAccountCredentials.from_json_keyfile_name(\"api_keys.json\", scope)\n",
    "client = gspread.authorize(creds)\n",
    "spreadsheet = client.open_by_key(\"12L4EkdRqaQ_e42fGHWaTmgCeqQrNgjTfoeAEc5AB6tw\")"
   ]
  },
  {
   "cell_type": "code",
   "execution_count": null,
   "metadata": {},
   "outputs": [],
   "source": [
    "# load route data\n",
    "route_sheet = spreadsheet.worksheet(\"Routes\")\n",
    "route_data = pd.DataFrame(route_sheet.get_all_records())"
   ]
  },
  {
   "cell_type": "code",
   "execution_count": 13,
   "metadata": {},
   "outputs": [],
   "source": [
    "# connect to OpenRouteService API for automobile routes\n",
    "with open(\"api_keys.json\") as f:\n",
    "    api_keys = json.load(f)\n",
    "ors_client = openrouteservice.Client(key=api_keys[\"openrouteservice\"])"
   ]
  },
  {
   "cell_type": "code",
   "execution_count": null,
   "metadata": {},
   "outputs": [],
   "source": [
    "# function to return a geojson route between two coordinates \n",
    "def fetch_route(start_coords, end_coords, transport_mode=\"driving-car\"):\n",
    "    try:\n",
    "        # Fetch the route from OpenRouteService\n",
    "        route = ors_client.directions(\n",
    "            coordinates=[start_coords, end_coords],\n",
    "            profile=transport_mode,\n",
    "            format=\"geojson\"\n",
    "        )\n",
    "        return route\n",
    "    except openrouteservice.exceptions.ApiError as e:\n",
    "        print(f\"Failed to fetch route: {e}\")\n",
    "        return None\n",
    "    "
   ]
  },
  {
   "cell_type": "code",
   "execution_count": null,
   "metadata": {},
   "outputs": [],
   "source": [
    "# geocode coordinates a location\n",
    "def geocode_location(location):\n",
    "    try:\n",
    "        geocode_response = ors_client.pelias_search(text=location)\n",
    "        if geocode_response[\"features\"]:\n",
    "            coords = geocode_response[\"features\"][0][\"geometry\"][\"coordinates\"]\n",
    "            return coords[0], coords[1]  # Return (lon, lat)\n",
    "    except Exception as e:\n",
    "        print(f\"Failed to geocode location {location}: {e}\")\n",
    "    return None, None"
   ]
  },
  {
   "cell_type": "code",
   "execution_count": null,
   "metadata": {},
   "outputs": [
    {
     "name": "stdout",
     "output_type": "stream",
     "text": [
      "Failed to fetch route: 404 ({'error': {'code': 2010, 'message': 'Could not find routable point within a radius of 350.0 meters of specified coordinate 0: -19.1817000 15.9177000.; Could not find routable point within a radius of 350.0 meters of specified coordinate 1: -22.5609000 17.0658000.'}, 'info': {'engine': {'build_date': '2025-03-14T11:07:03Z', 'graph_version': '1', 'version': '9.1.1'}, 'timestamp': 1743837194919}})\n"
     ]
    }
   ],
   "source": [
    "# process GeoJSON routes and save to file\n",
    "for index, row in route_data.iterrows():\n",
    "    # skip extant filenames\n",
    "    if pd.notna(row[\"filename\"]) and row[\"filename\"].strip() != \"\":\n",
    "        # print(f\"Skipping route {row['route_id']} as it already has a filename: {row['filename']}\")\n",
    "        continue\n",
    "\n",
    "    # check if start_location and end_location exist in the manually set locations, default to geocode\n",
    "    start_coords = locations.get(row[\"start_location\"], geocode_location(row[\"start_location\"]))\n",
    "    end_coords = locations.get(row[\"end_location\"], geocode_location(row[\"end_location\"]))\n",
    "\n",
    "    # if geocoding was successful, fetch the route\n",
    "    if None not in start_coords and None not in end_coords:\n",
    "        route = fetch_route(start_coords, end_coords, row[\"transport_mode\"])\n",
    "\n",
    "        # if route, save to GeoJSON file, update route_data df\n",
    "        if route:\n",
    "            geojson_filename = f\"{row['route_id']}.geojson\"\n",
    "            geojson_path = Path(\"../docs/resources/geojson/\") / geojson_filename\n",
    "\n",
    "            with open(geojson_path, \"w\") as f:\n",
    "                json.dump(route, f, indent=4)\n",
    "\n",
    "            route_data.at[index, \"filename\"] = geojson_filename\n",
    "            print(\n",
    "                f\"Generated GeoJSON for route {row['start_location']} to {row['end_location']}, and saved to {geojson_path}\"\n",
    "            )"
   ]
  },
  {
   "cell_type": "code",
   "execution_count": null,
   "metadata": {},
   "outputs": [],
   "source": []
  }
 ],
 "metadata": {
  "kernelspec": {
   "display_name": "dev",
   "language": "python",
   "name": "python3"
  },
  "language_info": {
   "codemirror_mode": {
    "name": "ipython",
    "version": 3
   },
   "file_extension": ".py",
   "mimetype": "text/x-python",
   "name": "python",
   "nbconvert_exporter": "python",
   "pygments_lexer": "ipython3",
   "version": "3.10.13"
  }
 },
 "nbformat": 4,
 "nbformat_minor": 2
}
