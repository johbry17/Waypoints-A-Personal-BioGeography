{
 "cells": [
  {
   "cell_type": "code",
   "execution_count": 1,
   "metadata": {},
   "outputs": [],
   "source": [
    "from geopy.geocoders import Nominatim"
   ]
  },
  {
   "cell_type": "code",
   "execution_count": 2,
   "metadata": {},
   "outputs": [
    {
     "name": "stdout",
     "output_type": "stream",
     "text": [
      "Ubud, Bali, Indonesia: -8.5068977, 115.2622931\n",
      "Jaipur, India: 26.9154576, 75.8189817\n",
      "Cape Town, South Africa: -33.9288301, 18.4172197\n",
      "Machu Picchu, Peru: -13.164421950000001, -72.54508510173372\n",
      "Edinburgh, Scotland: 55.9533456, -3.1883749\n",
      "Mexico City, Mexico: 19.3207722, -99.1514677512441\n",
      "Ciudad Colon, Costa Rica: 9.91805215, -84.23654514428259\n",
      "Limbricht, Netherlands: 51.0120795, 5.8384433\n",
      "Cruz Bay, US Virgin Islands: 18.3308212, -64.7944809\n",
      "Olympia, WA: 47.0451022, -122.8950075\n"
     ]
    }
   ],
   "source": [
    "geolocator = Nominatim(user_agent=\"geoapi\")\n",
    "locations = [\n",
    "    \"Ubud, Bali, Indonesia\",\n",
    "    \"Jaipur, India\",\n",
    "    \"Cape Town, South Africa\",\n",
    "    \"Machu Picchu, Peru\",\n",
    "    \"Edinburgh, Scotland\",\n",
    "    \"Mexico City, Mexico\",\n",
    "    \"Ciudad Colon, Costa Rica\",\n",
    "    \"Limbricht, Netherlands\",\n",
    "    \"Cruz Bay, US Virgin Islands\",\n",
    "    \"Olympia, WA\",\n",
    "]\n",
    "\n",
    "for location in locations:\n",
    "    loc = geolocator.geocode(location)\n",
    "    print(f\"{location}: {loc.latitude}, {loc.longitude}\")"
   ]
  },
  {
   "cell_type": "code",
   "execution_count": 3,
   "metadata": {},
   "outputs": [
    {
     "name": "stdout",
     "output_type": "stream",
     "text": [
      "Beijing, China: 40.190632, 116.412144\n",
      "Paris, France: 48.8534951, 2.3483915\n",
      "Westford, Vermont: 44.6119901, -73.0088889\n",
      "Washington, DC: 38.8950368, -77.0365427\n",
      "New York, USA: 40.7127281, -74.0060152\n",
      "Chicago, USA: 41.8755616, -87.6244212\n",
      "Boston, USA: 42.3554334, -71.060511\n",
      "San Francisco, USA: 37.7792588, -122.4193286\n",
      "Philadelphia, USA: 39.9527237, -75.1635262\n",
      "Montreal, Canada: 45.5031824, -73.5698065\n",
      "Brussels, Belgium: 50.8465573, 4.351697\n",
      "Tulum, Mexico: 20.429647, -87.6529306\n",
      "Cabo Pulmo, Mexico: 23.4453627, -109.4240213\n",
      "Caye Caulker, Belize: 17.739514800000002, -88.03368670755441\n",
      "Tikal, Guatemala: 16.9131737, -89.9296189\n",
      "San Salvador, El Salvador: 13.6989939, -89.1914249\n",
      "Granada, Nicaragua: 11.9303801, -85.9535897\n",
      "Ometepe, Nicaragua: 11.498386400000001, -85.62553996271319\n",
      "Bocas del Toro, Panama: 9.26847485, -81.99322424821933\n",
      "San Juan, Puerto Rico: 18.384239049999998, -66.05343997364733\n",
      "Kauai, Hawaii: 22.05038375, -159.55886239302424\n",
      "Istanbul, Turkey: 41.006381, 28.9758715\n",
      "Lake Tahoe, USA: 39.08854049999999, -120.05035277301698\n",
      "Amubri, Costa Rica: 9.5170692, -82.9562336\n",
      "Las Vegas, USA: 36.2533896, -115.2794366262601\n",
      "London, England: 51.4893335, -0.14405508452768728\n",
      "Etosha, Namibia: -18.99133055, 15.746055058947679\n"
     ]
    }
   ],
   "source": [
    "geolocator = Nominatim(user_agent=\"geoapi\")\n",
    "locations = [\n",
    "    \"Beijing, China\",\n",
    "    \"Paris, France\",\n",
    "    \"Westford, Vermont\",\n",
    "    \"Washington, DC\",\n",
    "    \"New York, USA\",\n",
    "    \"Chicago, USA\",\n",
    "    \"Boston, USA\",\n",
    "    \"San Francisco, USA\",\n",
    "    \"Philadelphia, USA\",\n",
    "    \"Montreal, Canada\",\n",
    "    \"Brussels, Belgium\",\n",
    "    \"Tulum, Mexico\",\n",
    "    \"Cabo Pulmo, Mexico\",\n",
    "    \"Caye Caulker, Belize\",\n",
    "    \"Tikal, Guatemala\",\n",
    "    \"San Salvador, El Salvador\",\n",
    "    \"Granada, Nicaragua\",\n",
    "    \"Ometepe, Nicaragua\",\n",
    "    \"Bocas del Toro, Panama\",\n",
    "    \"San Juan, Puerto Rico\",\n",
    "    \"Kauai, Hawaii\",\n",
    "    \"Istanbul, Turkey\",\n",
    "    \"Lake Tahoe, USA\",\n",
    "    \"Amubri, Costa Rica\",\n",
    "    \"Las Vegas, USA\",\n",
    "    \"London, England\",\n",
    "    \"Etosha, Namibia\",\n",
    "]\n",
    "\n",
    "for location in locations:\n",
    "    loc = geolocator.geocode(location)\n",
    "    print(f\"{location}: {loc.latitude}, {loc.longitude}\")"
   ]
  },
  {
   "cell_type": "code",
   "execution_count": 4,
   "metadata": {},
   "outputs": [
    {
     "name": "stdout",
     "output_type": "stream",
     "text": [
      "Lovina, Bali, Indonesia: -8.16305115, 115.02246398708351\n",
      "Uluwatu, Bali, Indonesia: -8.8272855, 115.0889841\n",
      "Mall, Washington, DC: 39.626185, -77.7691954\n"
     ]
    }
   ],
   "source": [
    "geolocator = Nominatim(user_agent=\"geoapi\")\n",
    "locations = [\n",
    "    \"Lovina, Bali, Indonesia\",\n",
    "    \"Uluwatu, Bali, Indonesia\",\n",
    "    \"Mall, Washington, DC\",\n",
    "]\n",
    "\n",
    "for location in locations:\n",
    "    loc = geolocator.geocode(location)\n",
    "    print(f\"{location}: {loc.latitude}, {loc.longitude}\")"
   ]
  },
  {
   "cell_type": "code",
   "execution_count": null,
   "metadata": {},
   "outputs": [],
   "source": []
  }
 ],
 "metadata": {
  "kernelspec": {
   "display_name": "dev",
   "language": "python",
   "name": "python3"
  },
  "language_info": {
   "codemirror_mode": {
    "name": "ipython",
    "version": 3
   },
   "file_extension": ".py",
   "mimetype": "text/x-python",
   "name": "python",
   "nbconvert_exporter": "python",
   "pygments_lexer": "ipython3",
   "version": "3.10.13"
  }
 },
 "nbformat": 4,
 "nbformat_minor": 2
}
